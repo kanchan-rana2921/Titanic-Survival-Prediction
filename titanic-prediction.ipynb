{
 "cells": [
  {
   "cell_type": "markdown",
   "id": "f17655fd",
   "metadata": {},
   "source": [
    "#1.IMPORT LIBRARIES"
   ]
  },
  {
   "cell_type": "code",
   "execution_count": 12,
   "id": "638b16e4",
   "metadata": {},
   "outputs": [],
   "source": [
    "import pandas as pd\n"
   ]
  },
  {
   "cell_type": "markdown",
   "id": "9fe3e55e",
   "metadata": {},
   "source": [
    "#2.LOAD AND EXPLORE DATA"
   ]
  },
  {
   "cell_type": "code",
   "execution_count": null,
   "id": "43e8d5ca",
   "metadata": {},
   "outputs": [],
   "source": [
    "df=pd.read_csv(\"D:/titanic-survival-prediction/tested.csv\")\n",
    "df.head()\n",
    "df.info()\n",
    "df.describe()\n"
   ]
  },
  {
   "cell_type": "markdown",
   "id": "6a0c5b6d",
   "metadata": {},
   "source": [
    "#3. DATA PREPROCESSING"
   ]
  },
  {
   "cell_type": "markdown",
   "id": "928c4331",
   "metadata": {},
   "source": [
    "# fill missingAge with median\n",
    "df['Age'].fillna(df['Age'].median())\n",
    "\n",
    "# Fill missing Embarked with mode\n",
    "df['Embarked'].fillna(df['Embarked'].mode()[0])\n",
    "\n",
    "# Drop 'Cabin' due to too many missing values (optional)\n",
    "df.drop(['Cabin', 'Ticket', 'Name', 'PassengerId'], axis=1)\n",
    "\n",
    "df['Sex'] = LabelEncoder().fit_transform(df['Sex'])\n",
    "df = pd.get_dummies(df, columns=['Embarked'], drop_first=True)\n",
    "\n",
    "scaler = StandardScaler()\n",
    "df[['Age', 'Fare']] = scaler.fit_transform(df[['Age', 'Fare']])\n",
    "\n",
    "X = df.drop('Survived', axis=1)\n",
    "y = df['Survived']\n",
    "X_train, X_test, y_train, y_test = train_test_split(X, y, test_size=0.2, random_state=42)\n",
    "\n",
    "# modeling\n",
    "model = RandomForestClassifier(n_estimators=100, random_state=42)\n",
    "model.fit(X_train, y_train)\n",
    "\n",
    "y_pred = model.predict(X_test)\n",
    "print(\"Accuracy:\", accuracy_score(y_test, y_pred))\n",
    "print(\"Classification Report:\\n\", classification_report(y_test, y_pred))\n",
    "sns.heatmap(confusion_matrix(y_test, y_pred), annot=True, fmt='d')\n",
    "plt.show()\n",
    "\n",
    "import  joblib\n",
    "joblib.dump(model, 'models/titanic_model.pkl')\n",
    "\n",
    "\n",
    "\n",
    "\n"
   ]
  },
  {
   "cell_type": "markdown",
   "id": "72f3dc58",
   "metadata": {},
   "source": [
    "#4.CREATE INTERACTIVE DASHBOARD USING ipywidgets"
   ]
  },
  {
   "cell_type": "code",
   "execution_count": null,
   "id": "db1f0071",
   "metadata": {},
   "outputs": [],
   "source": [
    "import pandas as pd\n",
    "import seaborn as sns\n",
    "import ipywidgets as widgets\n",
    "import matplotlib.pyplot as plt\n",
    "from IPython.display import display,Markdown\n",
    "\n",
    "#load dataset\n",
    "df= pd.read_csv('D:/titanic-survival-prediction/tested.csv')\n",
    "\n",
    "#display a title\n",
    "display(Markdown(\"##Titanic Prediction Dashboard\"))\n",
    "\n",
    "#step1.define your plot function\n",
    "def show_pie_chart(feature,pclass,sex):\n",
    "    filtered=df[(df['Pclass']==pclass)&(df['Sex']==sex)]\n",
    "    plt.figure(figsize=(12,5))\n",
    "    sns.set(style=\"whitegrid\")\n",
    "\n",
    "#prepare survival count (always include 0 and 1 keys)\n",
    "    survived_count=filtered['Survived'].value_counts().sort_index().to_dict()\n",
    "    survived_count[0]=survived_count.get(0,0)\n",
    "    survived_count[1]=survived_count.get(1,0)\n",
    "    \n",
    "     \n",
    "    #pie chart of selected feature\n",
    "    plt.figure(figsize=(10,4))\n",
    "\n",
    "    #left:pie chart\n",
    "    plt.subplot(1,2,1)\n",
    "    if not filtered.empty:\n",
    "\n",
    "      filtered[feature].value_counts().plot.pie(autopct='%1.1f%%',startangle=90,colors=sns.color_palette('pastel'))\n",
    "    else:\n",
    "       #dummy pie chart when no data\n",
    "       plt.pie([1],labels=['No Data'],colors=['lightblue'])\n",
    "    plt.title(f\"{feature} Distribution\")\n",
    "    plt.ylabel(\"\")\n",
    "    \n",
    "    #right:bar chart of survial\n",
    "    \n",
    "    plt.subplot(1,2,2)\n",
    "    survived_count=filtered['Survived'].value_counts().sort_index()\n",
    "    labels = ['Did Not Survive', 'Survived']\n",
    "    values = [survived_count.get(0, 0), survived_count.get(1, 0)]\n",
    "\n",
    "   #plotting\n",
    "    plt.plot(survived_count.index,survived_count.values,marker='o',color='lightblue')\n",
    "    plt.scatter(survived_count.index,survived_count.values,color='red',s=100)\n",
    "    \n",
    "    sns.barplot(x=labels,y=values,legend=True)\n",
    "    plt.xlabel('Outcomes')\n",
    "    plt.ylabel('Number of passengers')\n",
    "    plt.title(\"Survived Count\")\n",
    "    plt.tight_layout()\n",
    "    plt.show()\n",
    "    \n",
    "#step2. create widgets\n",
    "feature_dropdown=widgets.Dropdown(options=['Survived','Pclass','Sex'], description='Feature:')\n",
    "pclass_dropdown=widgets.Dropdown(options=[1,2,3],description='Pclass:')\n",
    "sex_dropdown=widgets.Dropdown(options=['Male','Female'],value='Male',description='Sex:')\n",
    "\n",
    "#step3. interactive output\n",
    "ui=widgets.VBox([feature_dropdown,pclass_dropdown,sex_dropdown])\n",
    "out=widgets.interactive_output(show_pie_chart,{\n",
    "    'feature':feature_dropdown,\n",
    "    'pclass':pclass_dropdown,\n",
    "    'sex':sex_dropdown\n",
    "})\n",
    "\n",
    "#step4. display the dashboard\n",
    "display(ui,out)\n",
    "\n",
    "\n",
    "\n",
    "    \n"
   ]
  }
 ],
 "metadata": {
  "kernelspec": {
   "display_name": "Python 3",
   "language": "python",
   "name": "python3"
  },
  "language_info": {
   "codemirror_mode": {
    "name": "ipython",
    "version": 3
   },
   "file_extension": ".py",
   "mimetype": "text/x-python",
   "name": "python",
   "nbconvert_exporter": "python",
   "pygments_lexer": "ipython3",
   "version": "3.12.6"
  }
 },
 "nbformat": 4,
 "nbformat_minor": 5
}
